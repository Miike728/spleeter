{
  "nbformat": 4,
  "nbformat_minor": 0,
  "metadata": {
    "colab": {
      "provenance": [],
      "gpuType": "T4",
      "authorship_tag": "ABX9TyNI/twCIGuJUCS6Nx9j8sZd",
      "include_colab_link": true
    },
    "kernelspec": {
      "name": "python3",
      "display_name": "Python 3"
    },
    "language_info": {
      "name": "python"
    },
    "accelerator": "GPU"
  },
  "cells": [
    {
      "cell_type": "markdown",
      "metadata": {
        "id": "view-in-github",
        "colab_type": "text"
      },
      "source": [
        "<a href=\"https://colab.research.google.com/github/Miike728/spleeter/blob/main/Spleeter.ipynb\" target=\"_parent\"><img src=\"https://colab.research.google.com/assets/colab-badge.svg\" alt=\"Open In Colab\"/></a>"
      ]
    },
    {
      "cell_type": "code",
      "execution_count": null,
      "metadata": {
        "id": "jtgZndeSvDkp"
      },
      "outputs": [],
      "source": [
        "!pip install spleeter yt-dlp"
      ]
    },
    {
      "cell_type": "code",
      "source": [
        "!apt install ffmpeg"
      ],
      "metadata": {
        "id": "LxRjqtRjvGla"
      },
      "execution_count": null,
      "outputs": []
    },
    {
      "cell_type": "code",
      "source": [
        "import yt_dlp\n",
        "import ipywidgets as widgets\n",
        "from IPython.display import display\n",
        "import os\n",
        "\n",
        "def download_from_youtube(url):\n",
        "    ydl_opts = {\n",
        "        'format': 'bestaudio/best',\n",
        "        'postprocessors': [{\n",
        "            'key': 'FFmpegExtractAudio',\n",
        "            'preferredcodec': 'mp3',\n",
        "            'preferredquality': '192',\n",
        "        }],\n",
        "        'outtmpl': 'song.%(ext)s',  # Cambia el nombre del archivo de salida a 'song.mp3'\n",
        "    }\n",
        "\n",
        "    with yt_dlp.YoutubeDL(ydl_opts) as ydl:\n",
        "        info = ydl.extract_info(url, download=True)\n",
        "        return ydl.prepare_filename(info)\n",
        "\n",
        "# Widget de entrada\n",
        "tb = widgets.Text(placeholder=\"Introduce la URL del vídeo de YouTube\")\n",
        "display(tb)\n",
        "\n",
        "# Botón para iniciar la descarga\n",
        "button = widgets.Button(description=\"Descargar\")\n",
        "output = widgets.Output()\n",
        "\n",
        "def on_button_click(b):\n",
        "    with output:\n",
        "        filename = download_from_youtube(tb.value)\n",
        "        print(f\"Archivo descargado y renombrado como: {filename}\")\n",
        "\n",
        "button.on_click(on_button_click)\n",
        "display(button, output)"
      ],
      "metadata": {
        "id": "SzTRF1qGvGWn"
      },
      "execution_count": null,
      "outputs": []
    },
    {
      "cell_type": "code",
      "source": [
        "!spleeter separate -p spleeter:5sbtems -o output/ \"song.mp3\""
      ],
      "metadata": {
        "id": "qa6FrViKvGUD"
      },
      "execution_count": null,
      "outputs": []
    },
    {
      "cell_type": "code",
      "source": [
        "from google.colab import files\n",
        "\n",
        "!zip -r separated_tracks.zip output/\n",
        "files.download('separated_tracks.zip')"
      ],
      "metadata": {
        "id": "kST-B8t2vGRc"
      },
      "execution_count": null,
      "outputs": []
    }
  ]
}